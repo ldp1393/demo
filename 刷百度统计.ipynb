{
 "cells": [
  {
   "cell_type": "code",
   "execution_count": 4,
   "metadata": {
    "ExecuteTime": {
     "end_time": "2021-11-06T01:52:13.183086Z",
     "start_time": "2021-11-06T01:52:13.165136Z"
    },
    "code_folding": [
     0
    ]
   },
   "outputs": [],
   "source": [
    "#刷百度统计\n",
    "#20200522 by 微信：huguo00289\n",
    "# -*- coding: UTF-8 -*-"
   ]
  },
  {
   "cell_type": "code",
   "execution_count": 8,
   "metadata": {
    "ExecuteTime": {
     "end_time": "2021-11-06T02:41:33.982168Z",
     "start_time": "2021-11-06T02:41:00.071620Z"
    },
    "code_folding": [
     8
    ],
    "run_control": {
     "marked": true
    }
   },
   "outputs": [
    {
     "name": "stdout",
     "output_type": "stream",
     "text": [
      ">>>百度统计刷新中...\n",
      ">>>正在进行第1次百度统计刷新...\n",
      "百度统计刷新成功！\n",
      ">>>正在进行第2次百度统计刷新...\n",
      "百度统计刷新成功！\n",
      ">>>正在进行第3次百度统计刷新...\n",
      "百度统计刷新成功！\n",
      ">>>正在进行第4次百度统计刷新...\n",
      "百度统计刷新成功！\n",
      "百度统计刷新完成！\n",
      "8s后程序自动关闭..\n"
     ]
    }
   ],
   "source": [
    "import requests,time,random\n",
    "\n",
    " \n",
    " \n",
    "def get(si,text,Referer_url):\n",
    "    #ua=UserAgent()\n",
    "    url = \"https://hm.baidu.com/hm.gif?\"\n",
    "    payload = {\n",
    "        'cc': '1',\n",
    "        'ck': '1',  # 是否支持cookie 1:0\n",
    "        'cl': '24-bit',  # 颜色深度 如 “32-bit”\n",
    "        'ds': '1920x1080',\n",
    "        'vl': '482',\n",
    "        'et': '0',  # 初始值为'0'，如果ep时间变量不是0的话，它会变成其他\n",
    "        'fl': '29.0',  # flash版本\n",
    "        'ja': '0',  # java支持 1:0\n",
    "        'ln': 'zh-cn',  # 语言 zh-cn\n",
    "        'lo': '0',\n",
    "        'lt': int(time.time()),\n",
    "        'rnd': int(random.random() * 2147483647),\n",
    "        'si': si,  # 统计代码id\n",
    "        'su': f'https://www.baidu.com/&wd={text}&eqid=85d2441d003a5637000000065ec74a83',\n",
    "        'v': '1.2.74',\n",
    "        'lv': '3',\n",
    "        'sn': '43357',\n",
    "        'r': '0',\n",
    "        'ww': '1920',\n",
    "        'ct': '!!',\n",
    "    }\n",
    "    \n",
    "    headers = {\n",
    "        'Referer': Referer_url,\n",
    "        'User-Agent': 'Mozilla/5.0 (Windows NT 10.0; Win64; x64) AppleWebKit/537.36 (KHTML, like Gecko) Chrome/56.0.2924.87 Safari/537.36',\n",
    "    }\n",
    "    response = requests.get(url, params=payload,headers=headers,timeout=5)\n",
    "    if response.status_code == 200:\n",
    "        print(\"百度统计刷新成功！\")\n",
    " \n",
    "\n",
    "if __name__ == '__main__':\n",
    "#     si=input(\"请输入百度统计id号：\")\n",
    "    si='b4ea90bfdc4fb2b227998afe03db5d11'\n",
    "#     text=input(\"请输入文本内容，建议控制字数，不宜太长：\")\n",
    "    text = '苏州封阳台'\n",
    "#     Referer_url=input(\"请输入入口网页/网址：\")\n",
    "    Referer_url = 'http://www.hounn.com/product/yangguangfang/'\n",
    "    print(f'>>>百度统计刷新中...')\n",
    "    for i in range(1, 5):\n",
    "        print(f'>>>正在进行第{i}次百度统计刷新...')\n",
    "        try:\n",
    "            get(si,text,Referer_url)\n",
    "        except:\n",
    "            pass\n",
    "        time.sleep(random.randint(3,7))\n",
    " \n",
    " \n",
    "    print(\"百度统计刷新完成！\")\n",
    "#     print(\"BUG反馈 微信：huguo00289\")\n",
    "    print(\"8s后程序自动关闭..\")\n",
    "    time.sleep(8)"
   ]
  },
  {
   "cell_type": "code",
   "execution_count": null,
   "metadata": {},
   "outputs": [],
   "source": []
  }
 ],
 "metadata": {
  "kernelspec": {
   "display_name": "Python 3",
   "language": "python",
   "name": "python3"
  },
  "language_info": {
   "codemirror_mode": {
    "name": "ipython",
    "version": 3
   },
   "file_extension": ".py",
   "mimetype": "text/x-python",
   "name": "python",
   "nbconvert_exporter": "python",
   "pygments_lexer": "ipython3",
   "version": "3.9.6"
  }
 },
 "nbformat": 4,
 "nbformat_minor": 4
}
