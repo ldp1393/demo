{
 "cells": [
  {
   "cell_type": "code",
   "execution_count": 4,
   "metadata": {
    "ExecuteTime": {
     "end_time": "2021-04-08T06:20:55.040356Z",
     "start_time": "2021-04-08T06:20:54.890240Z"
    }
   },
   "outputs": [
    {
     "name": "stdout",
     "output_type": "stream",
     "text": [
      "75cd3de734201b2e8be2b70ce2460f4\n"
     ]
    }
   ],
   "source": [
    "import re, requests\n",
    "\n",
    "\n",
    "url = 'http://www.sz-akh.com/'\n",
    "\n",
    "r = requests.get(url)\n",
    "num = re.search(r'https://hm.baidu.com/hm.js?[\\s\\S]{32}',r.text).group()[-31:]\n",
    "print(num)"
   ]
  },
  {
   "cell_type": "markdown",
   "metadata": {},
   "source": [
    "## 大批量获取网站网址（最行业进行细分-百度-搜狗-搜搜-360）"
   ]
  },
  {
   "cell_type": "markdown",
   "metadata": {},
   "source": [
    "## 大批量的筛选有百度统计代码的网站，获取统计代码编号"
   ]
  },
  {
   "cell_type": "markdown",
   "metadata": {},
   "source": [
    "## 将统计代码存入数据库"
   ]
  }
 ],
 "metadata": {
  "kernelspec": {
   "display_name": "Python 3",
   "language": "python",
   "name": "python3"
  },
  "language_info": {
   "codemirror_mode": {
    "name": "ipython",
    "version": 3
   },
   "file_extension": ".py",
   "mimetype": "text/x-python",
   "name": "python",
   "nbconvert_exporter": "python",
   "pygments_lexer": "ipython3",
   "version": "3.9.0"
  }
 },
 "nbformat": 4,
 "nbformat_minor": 4
}
